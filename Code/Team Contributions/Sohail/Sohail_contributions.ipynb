{
 "cells": [
  {
   "cell_type": "code",
   "execution_count": null,
   "metadata": {},
   "outputs": [],
   "source": [
    "#imports needed in all files to use the libraries\n",
    "import numpy as np\n",
    "import pandas as pd\n",
    "import matplotlib.pyplot as plt\n",
    "import seaborn as sns\n",
    "import folium\n",
    "from folium.plugins import MarkerCluster\n",
    "from IPython.display import display\n",
    "from sklearn.model_selection import train_test_split\n",
    "from sklearn.linear_model import LinearRegression, LogisticRegression\n",
    "from sklearn.metrics import mean_squared_error,  r2_score, accuracy_score, classification_report\n",
    "from sklearn.preprocessing import StandardScaler \n",
    "from sklearn.tree import DecisionTreeRegressor"
   ]
  },
  {
   "cell_type": "code",
   "execution_count": 2,
   "metadata": {},
   "outputs": [
    {
     "ename": "NameError",
     "evalue": "name 'pd' is not defined",
     "output_type": "error",
     "traceback": [
      "\u001b[1;31m---------------------------------------------------------------------------\u001b[0m",
      "\u001b[1;31mNameError\u001b[0m                                 Traceback (most recent call last)",
      "Cell \u001b[1;32mIn[2], line 2\u001b[0m\n\u001b[0;32m      1\u001b[0m \u001b[38;5;66;03m# needed in all files to load the dataset\u001b[39;00m\n\u001b[1;32m----> 2\u001b[0m df \u001b[38;5;241m=\u001b[39m \u001b[43mpd\u001b[49m\u001b[38;5;241m.\u001b[39mread_csv(\u001b[38;5;124mr\u001b[39m\u001b[38;5;124m'\u001b[39m\u001b[38;5;124mC:\u001b[39m\u001b[38;5;124m\\\u001b[39m\u001b[38;5;124mUsers\u001b[39m\u001b[38;5;124m\\\u001b[39m\u001b[38;5;124mHome\u001b[39m\u001b[38;5;124m\\\u001b[39m\u001b[38;5;124mDownloads\u001b[39m\u001b[38;5;124m\\\u001b[39m\u001b[38;5;124mMotor_Vehicle_Collisions_-_Crashes_20231204.csv\u001b[39m\u001b[38;5;124m'\u001b[39m) \u001b[38;5;66;03m### Every user must change the path\u001b[39;00m\n\u001b[0;32m      3\u001b[0m display(df\u001b[38;5;241m.\u001b[39mhead(\u001b[38;5;241m20\u001b[39m))\n",
      "\u001b[1;31mNameError\u001b[0m: name 'pd' is not defined"
     ]
    }
   ],
   "source": [
    "# needed in all files to load the dataset\n",
    "df = pd.read_csv(r'C:\\Users\\Home\\Downloads\\Motor_Vehicle_Collisions_-_Crashes_20231204.csv') ### Every user must change the path\n",
    "display(df.head(20))"
   ]
  },
  {
   "cell_type": "code",
   "execution_count": null,
   "metadata": {},
   "outputs": [],
   "source": [
    "Injured_per_month = group_month.NUMBER_OF_PERSONS_INJURED/group_month.NUMBER_OF_PERSONS_INJURED.sum()\n",
    "Injured_per_month"
   ]
  },
  {
   "cell_type": "code",
   "execution_count": null,
   "metadata": {},
   "outputs": [],
   "source": [
    "Killed_per_month = group_month.NUMBER_OF_PERSONS_KILLED/group_month.NUMBER_OF_PERSONS_KILLED.sum()\n",
    "Killed_per_month"
   ]
  },
  {
   "cell_type": "code",
   "execution_count": null,
   "metadata": {},
   "outputs": [],
   "source": [
    "# Extract hour of day from 'CRASH_TIME'\n",
    "df['day_of_week'] = pd.to_datetime(df['CRASH_DATE']).dt.day_name()\n",
    "df['Hour_of_Day'] = pd.to_datetime(df['CRASH_TIME']).dt.hour\n",
    "\n",
    "# Convert 'day_of_week' to categorical type\n",
    "df['day_of_week'] = pd.Categorical(df['day_of_week'], categories=['Monday', 'Tuesday', 'Wednesday', 'Thursday', 'Friday', 'Saturday', 'Sunday'], ordered=True)\n",
    "\n",
    "hour_dataset = df[['NUMBER_OF_PERSONS_INJURED', 'NUMBER_OF_PERSONS_KILLED', 'Hour_of_Day']].copy()\n",
    "\n",
    "# Visualize accidents by hour\n",
    "plt.figure(figsize=(10, 6))\n",
    "sns.countplot(data=hour_dataset, x='Hour_of_Day', palette='gnuplot')\n",
    "plt.title('Accidents by Hour of Day')\n",
    "plt.xlabel('Hour of Day')\n",
    "plt.ylabel('Number of Accidents')\n",
    "plt.xticks(rotation=45)\n",
    "plt.tight_layout()\n",
    "plt.show()\n",
    "\n",
    "# Day of the week\n",
    "plt.figure(figsize=(10, 6))\n",
    "sns.countplot(data=df, x='day_of_week', palette='magma', order=['Monday', 'Tuesday', 'Wednesday', 'Thursday', 'Friday', 'Saturday', 'Sunday'])\n",
    "plt.xlabel('Day of Week')\n",
    "plt.ylabel('Frequency')\n",
    "plt.title('Accidents by Day of Week')\n",
    "plt.show()"
   ]
  }
 ],
 "metadata": {
  "kernelspec": {
   "display_name": "testenv",
   "language": "python",
   "name": "python3"
  },
  "language_info": {
   "codemirror_mode": {
    "name": "ipython",
    "version": 3
   },
   "file_extension": ".py",
   "mimetype": "text/x-python",
   "name": "python",
   "nbconvert_exporter": "python",
   "pygments_lexer": "ipython3",
   "version": "3.12.0"
  }
 },
 "nbformat": 4,
 "nbformat_minor": 2
}
